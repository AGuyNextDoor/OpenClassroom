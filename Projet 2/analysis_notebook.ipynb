{
 "cells": [
  {
   "cell_type": "markdown",
   "metadata": {},
   "source": [
    "# Projet 2"
   ]
  },
  {
   "cell_type": "markdown",
   "metadata": {},
   "source": [
    "## Librairies"
   ]
  },
  {
   "cell_type": "code",
   "execution_count": 1,
   "metadata": {},
   "outputs": [],
   "source": [
    "import pandas as pd\n",
    "from pandas.plotting import scatter_matrix, andrews_curves\n",
    "import numpy as np\n",
    "import matplotlib.pyplot as plt\n",
    "import scipy.stats as st\n",
    "import scipy\n",
    "from collections import OrderedDict"
   ]
  },
  {
   "cell_type": "markdown",
   "metadata": {},
   "source": [
    "## Data Import"
   ]
  },
  {
   "cell_type": "code",
   "execution_count": 2,
   "metadata": {},
   "outputs": [
    {
     "ename": "FileNotFoundError",
     "evalue": "[Errno 2] No such file or directory: 'moyen_products.csv'",
     "output_type": "error",
     "traceback": [
      "\u001b[0;31m---------------------------------------------------------------------------\u001b[0m",
      "\u001b[0;31mFileNotFoundError\u001b[0m                         Traceback (most recent call last)",
      "\u001b[0;32m<ipython-input-2-949abc67cbe8>\u001b[0m in \u001b[0;36m<module>\u001b[0;34m\u001b[0m\n\u001b[0;32m----> 1\u001b[0;31m \u001b[0mdata\u001b[0m \u001b[0;34m=\u001b[0m \u001b[0mpd\u001b[0m\u001b[0;34m.\u001b[0m\u001b[0mread_csv\u001b[0m\u001b[0;34m(\u001b[0m\u001b[0;34m\"moyen_products.csv\"\u001b[0m\u001b[0;34m,\u001b[0m \u001b[0mengine\u001b[0m \u001b[0;34m=\u001b[0m \u001b[0;34m\"python\"\u001b[0m\u001b[0;34m,\u001b[0m \u001b[0msep\u001b[0m\u001b[0;34m=\u001b[0m \u001b[0;34m'\\t|   '\u001b[0m\u001b[0;34m,\u001b[0m \u001b[0mdecimal\u001b[0m\u001b[0;34m=\u001b[0m \u001b[0;34m'.'\u001b[0m\u001b[0;34m)\u001b[0m\u001b[0;34m\u001b[0m\u001b[0;34m\u001b[0m\u001b[0m\n\u001b[0m",
      "\u001b[0;32m/usr/local/lib/python3.7/site-packages/pandas/io/parsers.py\u001b[0m in \u001b[0;36mparser_f\u001b[0;34m(filepath_or_buffer, sep, delimiter, header, names, index_col, usecols, squeeze, prefix, mangle_dupe_cols, dtype, engine, converters, true_values, false_values, skipinitialspace, skiprows, skipfooter, nrows, na_values, keep_default_na, na_filter, verbose, skip_blank_lines, parse_dates, infer_datetime_format, keep_date_col, date_parser, dayfirst, cache_dates, iterator, chunksize, compression, thousands, decimal, lineterminator, quotechar, quoting, doublequote, escapechar, comment, encoding, dialect, error_bad_lines, warn_bad_lines, delim_whitespace, low_memory, memory_map, float_precision)\u001b[0m\n\u001b[1;32m    683\u001b[0m         )\n\u001b[1;32m    684\u001b[0m \u001b[0;34m\u001b[0m\u001b[0m\n\u001b[0;32m--> 685\u001b[0;31m         \u001b[0;32mreturn\u001b[0m \u001b[0m_read\u001b[0m\u001b[0;34m(\u001b[0m\u001b[0mfilepath_or_buffer\u001b[0m\u001b[0;34m,\u001b[0m \u001b[0mkwds\u001b[0m\u001b[0;34m)\u001b[0m\u001b[0;34m\u001b[0m\u001b[0;34m\u001b[0m\u001b[0m\n\u001b[0m\u001b[1;32m    686\u001b[0m \u001b[0;34m\u001b[0m\u001b[0m\n\u001b[1;32m    687\u001b[0m     \u001b[0mparser_f\u001b[0m\u001b[0;34m.\u001b[0m\u001b[0m__name__\u001b[0m \u001b[0;34m=\u001b[0m \u001b[0mname\u001b[0m\u001b[0;34m\u001b[0m\u001b[0;34m\u001b[0m\u001b[0m\n",
      "\u001b[0;32m/usr/local/lib/python3.7/site-packages/pandas/io/parsers.py\u001b[0m in \u001b[0;36m_read\u001b[0;34m(filepath_or_buffer, kwds)\u001b[0m\n\u001b[1;32m    455\u001b[0m \u001b[0;34m\u001b[0m\u001b[0m\n\u001b[1;32m    456\u001b[0m     \u001b[0;31m# Create the parser.\u001b[0m\u001b[0;34m\u001b[0m\u001b[0;34m\u001b[0m\u001b[0;34m\u001b[0m\u001b[0m\n\u001b[0;32m--> 457\u001b[0;31m     \u001b[0mparser\u001b[0m \u001b[0;34m=\u001b[0m \u001b[0mTextFileReader\u001b[0m\u001b[0;34m(\u001b[0m\u001b[0mfp_or_buf\u001b[0m\u001b[0;34m,\u001b[0m \u001b[0;34m**\u001b[0m\u001b[0mkwds\u001b[0m\u001b[0;34m)\u001b[0m\u001b[0;34m\u001b[0m\u001b[0;34m\u001b[0m\u001b[0m\n\u001b[0m\u001b[1;32m    458\u001b[0m \u001b[0;34m\u001b[0m\u001b[0m\n\u001b[1;32m    459\u001b[0m     \u001b[0;32mif\u001b[0m \u001b[0mchunksize\u001b[0m \u001b[0;32mor\u001b[0m \u001b[0miterator\u001b[0m\u001b[0;34m:\u001b[0m\u001b[0;34m\u001b[0m\u001b[0;34m\u001b[0m\u001b[0m\n",
      "\u001b[0;32m/usr/local/lib/python3.7/site-packages/pandas/io/parsers.py\u001b[0m in \u001b[0;36m__init__\u001b[0;34m(self, f, engine, **kwds)\u001b[0m\n\u001b[1;32m    893\u001b[0m             \u001b[0mself\u001b[0m\u001b[0;34m.\u001b[0m\u001b[0moptions\u001b[0m\u001b[0;34m[\u001b[0m\u001b[0;34m\"has_index_names\"\u001b[0m\u001b[0;34m]\u001b[0m \u001b[0;34m=\u001b[0m \u001b[0mkwds\u001b[0m\u001b[0;34m[\u001b[0m\u001b[0;34m\"has_index_names\"\u001b[0m\u001b[0;34m]\u001b[0m\u001b[0;34m\u001b[0m\u001b[0;34m\u001b[0m\u001b[0m\n\u001b[1;32m    894\u001b[0m \u001b[0;34m\u001b[0m\u001b[0m\n\u001b[0;32m--> 895\u001b[0;31m         \u001b[0mself\u001b[0m\u001b[0;34m.\u001b[0m\u001b[0m_make_engine\u001b[0m\u001b[0;34m(\u001b[0m\u001b[0mself\u001b[0m\u001b[0;34m.\u001b[0m\u001b[0mengine\u001b[0m\u001b[0;34m)\u001b[0m\u001b[0;34m\u001b[0m\u001b[0;34m\u001b[0m\u001b[0m\n\u001b[0m\u001b[1;32m    896\u001b[0m \u001b[0;34m\u001b[0m\u001b[0m\n\u001b[1;32m    897\u001b[0m     \u001b[0;32mdef\u001b[0m \u001b[0mclose\u001b[0m\u001b[0;34m(\u001b[0m\u001b[0mself\u001b[0m\u001b[0;34m)\u001b[0m\u001b[0;34m:\u001b[0m\u001b[0;34m\u001b[0m\u001b[0;34m\u001b[0m\u001b[0m\n",
      "\u001b[0;32m/usr/local/lib/python3.7/site-packages/pandas/io/parsers.py\u001b[0m in \u001b[0;36m_make_engine\u001b[0;34m(self, engine)\u001b[0m\n\u001b[1;32m   1145\u001b[0m                     \u001b[0;34m' \"python-fwf\")'\u001b[0m\u001b[0;34m.\u001b[0m\u001b[0mformat\u001b[0m\u001b[0;34m(\u001b[0m\u001b[0mengine\u001b[0m\u001b[0;34m=\u001b[0m\u001b[0mengine\u001b[0m\u001b[0;34m)\u001b[0m\u001b[0;34m\u001b[0m\u001b[0;34m\u001b[0m\u001b[0m\n\u001b[1;32m   1146\u001b[0m                 )\n\u001b[0;32m-> 1147\u001b[0;31m             \u001b[0mself\u001b[0m\u001b[0;34m.\u001b[0m\u001b[0m_engine\u001b[0m \u001b[0;34m=\u001b[0m \u001b[0mklass\u001b[0m\u001b[0;34m(\u001b[0m\u001b[0mself\u001b[0m\u001b[0;34m.\u001b[0m\u001b[0mf\u001b[0m\u001b[0;34m,\u001b[0m \u001b[0;34m**\u001b[0m\u001b[0mself\u001b[0m\u001b[0;34m.\u001b[0m\u001b[0moptions\u001b[0m\u001b[0;34m)\u001b[0m\u001b[0;34m\u001b[0m\u001b[0;34m\u001b[0m\u001b[0m\n\u001b[0m\u001b[1;32m   1148\u001b[0m \u001b[0;34m\u001b[0m\u001b[0m\n\u001b[1;32m   1149\u001b[0m     \u001b[0;32mdef\u001b[0m \u001b[0m_failover_to_python\u001b[0m\u001b[0;34m(\u001b[0m\u001b[0mself\u001b[0m\u001b[0;34m)\u001b[0m\u001b[0;34m:\u001b[0m\u001b[0;34m\u001b[0m\u001b[0;34m\u001b[0m\u001b[0m\n",
      "\u001b[0;32m/usr/local/lib/python3.7/site-packages/pandas/io/parsers.py\u001b[0m in \u001b[0;36m__init__\u001b[0;34m(self, f, **kwds)\u001b[0m\n\u001b[1;32m   2291\u001b[0m             \u001b[0mencoding\u001b[0m\u001b[0;34m=\u001b[0m\u001b[0mself\u001b[0m\u001b[0;34m.\u001b[0m\u001b[0mencoding\u001b[0m\u001b[0;34m,\u001b[0m\u001b[0;34m\u001b[0m\u001b[0;34m\u001b[0m\u001b[0m\n\u001b[1;32m   2292\u001b[0m             \u001b[0mcompression\u001b[0m\u001b[0;34m=\u001b[0m\u001b[0mself\u001b[0m\u001b[0;34m.\u001b[0m\u001b[0mcompression\u001b[0m\u001b[0;34m,\u001b[0m\u001b[0;34m\u001b[0m\u001b[0;34m\u001b[0m\u001b[0m\n\u001b[0;32m-> 2293\u001b[0;31m             \u001b[0mmemory_map\u001b[0m\u001b[0;34m=\u001b[0m\u001b[0mself\u001b[0m\u001b[0;34m.\u001b[0m\u001b[0mmemory_map\u001b[0m\u001b[0;34m,\u001b[0m\u001b[0;34m\u001b[0m\u001b[0;34m\u001b[0m\u001b[0m\n\u001b[0m\u001b[1;32m   2294\u001b[0m         )\n\u001b[1;32m   2295\u001b[0m         \u001b[0mself\u001b[0m\u001b[0;34m.\u001b[0m\u001b[0mhandles\u001b[0m\u001b[0;34m.\u001b[0m\u001b[0mextend\u001b[0m\u001b[0;34m(\u001b[0m\u001b[0mhandles\u001b[0m\u001b[0;34m)\u001b[0m\u001b[0;34m\u001b[0m\u001b[0;34m\u001b[0m\u001b[0m\n",
      "\u001b[0;32m/usr/local/lib/python3.7/site-packages/pandas/io/common.py\u001b[0m in \u001b[0;36m_get_handle\u001b[0;34m(path_or_buf, mode, encoding, compression, memory_map, is_text)\u001b[0m\n\u001b[1;32m    400\u001b[0m         \u001b[0;32melif\u001b[0m \u001b[0mis_text\u001b[0m\u001b[0;34m:\u001b[0m\u001b[0;34m\u001b[0m\u001b[0;34m\u001b[0m\u001b[0m\n\u001b[1;32m    401\u001b[0m             \u001b[0;31m# No explicit encoding\u001b[0m\u001b[0;34m\u001b[0m\u001b[0;34m\u001b[0m\u001b[0;34m\u001b[0m\u001b[0m\n\u001b[0;32m--> 402\u001b[0;31m             \u001b[0mf\u001b[0m \u001b[0;34m=\u001b[0m \u001b[0mopen\u001b[0m\u001b[0;34m(\u001b[0m\u001b[0mpath_or_buf\u001b[0m\u001b[0;34m,\u001b[0m \u001b[0mmode\u001b[0m\u001b[0;34m,\u001b[0m \u001b[0merrors\u001b[0m\u001b[0;34m=\u001b[0m\u001b[0;34m\"replace\"\u001b[0m\u001b[0;34m,\u001b[0m \u001b[0mnewline\u001b[0m\u001b[0;34m=\u001b[0m\u001b[0;34m\"\"\u001b[0m\u001b[0;34m)\u001b[0m\u001b[0;34m\u001b[0m\u001b[0;34m\u001b[0m\u001b[0m\n\u001b[0m\u001b[1;32m    403\u001b[0m         \u001b[0;32melse\u001b[0m\u001b[0;34m:\u001b[0m\u001b[0;34m\u001b[0m\u001b[0;34m\u001b[0m\u001b[0m\n\u001b[1;32m    404\u001b[0m             \u001b[0;31m# Binary mode\u001b[0m\u001b[0;34m\u001b[0m\u001b[0;34m\u001b[0m\u001b[0;34m\u001b[0m\u001b[0m\n",
      "\u001b[0;31mFileNotFoundError\u001b[0m: [Errno 2] No such file or directory: 'moyen_products.csv'"
     ]
    }
   ],
   "source": [
    "data = pd.read_csv(\"moyen_products.csv\", engine = \"python\", sep= '\\t|   ', decimal= '.')\n"
   ]
  },
  {
   "cell_type": "code",
   "execution_count": null,
   "metadata": {},
   "outputs": [],
   "source": [
    "nutriscore_columns = ['product_name','pnns_groups_1','nutrition-score-fr_100g', data.columns[68], data.columns[106], data.columns[70], data.columns[117], data.columns[122], data.columns[121], data.columns[107], data.columns[71], data.columns[116], data.columns[104], data.columns[105], data.columns[145], data.columns[129], data.columns[143], data.columns[124]]\n",
    "pnns1_columns = ['nutrition-score-fr_100g', data.columns[68], data.columns[106], data.columns[70], data.columns[117], data.columns[122], data.columns[121], data.columns[107], data.columns[71], data.columns[116], data.columns[104], data.columns[105], data.columns[145], data.columns[129], data.columns[143], data.columns[124]]"
   ]
  },
  {
   "cell_type": "code",
   "execution_count": 3,
   "metadata": {},
   "outputs": [
    {
     "ename": "NameError",
     "evalue": "name 'data' is not defined",
     "output_type": "error",
     "traceback": [
      "\u001b[0;31m---------------------------------------------------------------------------\u001b[0m",
      "\u001b[0;31mNameError\u001b[0m                                 Traceback (most recent call last)",
      "\u001b[0;32m<ipython-input-3-b98294c8c5b7>\u001b[0m in \u001b[0;36m<module>\u001b[0;34m\u001b[0m\n\u001b[0;32m----> 1\u001b[0;31m \u001b[0mnutriscore_dataFrame\u001b[0m \u001b[0;34m=\u001b[0m \u001b[0mdata\u001b[0m\u001b[0;34m[\u001b[0m\u001b[0mdata\u001b[0m\u001b[0;34m[\u001b[0m\u001b[0;34m'nutrition-score-fr_100g'\u001b[0m\u001b[0;34m]\u001b[0m\u001b[0;34m.\u001b[0m\u001b[0mnotnull\u001b[0m\u001b[0;34m(\u001b[0m\u001b[0;34m)\u001b[0m\u001b[0;34m]\u001b[0m\u001b[0;34m\u001b[0m\u001b[0;34m\u001b[0m\u001b[0m\n\u001b[0m",
      "\u001b[0;31mNameError\u001b[0m: name 'data' is not defined"
     ]
    }
   ],
   "source": [
    "nutriscore_dataFrame = data[data['nutrition-score-fr_100g'].notnull()]\n"
   ]
  },
  {
   "cell_type": "code",
   "execution_count": 11,
   "metadata": {},
   "outputs": [],
   "source": [
    "grouped_df_mean = nutriscore_dataFrame[nutriscore_columns].groupby('pnns_groups_1').mean()\n",
    "grouped_df_median = nutriscore_dataFrame[nutriscore_columns].groupby('pnns_groups_1').median()\n",
    "grouped_df_std = nutriscore_dataFrame[nutriscore_columns].groupby('pnns_groups_1').std()\n",
    "grouped_df_skew = nutriscore_dataFrame[nutriscore_columns].groupby('pnns_groups_1').skew()"
   ]
  },
  {
   "cell_type": "code",
   "execution_count": 13,
   "metadata": {},
   "outputs": [],
   "source": [
    "cols = nutriscore_dataFrame.columns.drop('energy_100g')\n",
    "nutriscore_dataFrame[cols] = nutriscore_dataFrame[cols].apply(pd.to_numeric, errors='coerce')\n",
    "\n",
    "cols = nutriscore_dataFrame.columns.drop('fat_100g')\n",
    "nutriscore_dataFrame[cols] = nutriscore_dataFrame[cols].apply(pd.to_numeric, errors='coerce')"
   ]
  },
  {
   "cell_type": "code",
   "execution_count": 14,
   "metadata": {},
   "outputs": [],
   "source": [
    "little_dico = {\n",
    "  'mean' : [],\n",
    "  'median' : [],\n",
    "  'std' : [],\n",
    "  'skew' : []\n",
    "}\n",
    "\n",
    "pnns_data = OrderedDict([\n",
    "  ('nutrition-score-fr_100g' , little_dico.copy()),\n",
    "  ('carbohydrates_100g' , little_dico.copy()),\n",
    "  ('proteins_100g' , little_dico.copy()),\n",
    "  ('sodium_100g' , little_dico.copy()),\n",
    "  ('salt_100g' , little_dico.copy()),\n",
    "  ('sugars_100g' , little_dico.copy()),\n",
    "  ('saturated-fat_100g' , little_dico.copy()),\n",
    "  ('fiber_100g' , little_dico.copy()),\n",
    "  ('trans-fat_100g' , little_dico.copy()),\n",
    "  ('cholesterol_100g' , little_dico.copy()),\n",
    "  ('iron_100g' , little_dico.copy()),\n",
    "  ('vitamin-c_100g' , little_dico.copy()),\n",
    "  ('calcium_100g' , little_dico.copy()),\n",
    "  ('vitamin-a_100g' , little_dico.copy()),\n",
    "])\n",
    "pnns_df = {}"
   ]
  },
  {
   "cell_type": "code",
   "execution_count": 15,
   "metadata": {},
   "outputs": [],
   "source": [
    "for index in grouped_df_mean.columns[:]:\n",
    "\n",
    "  pnns_data[index]['mean'] = grouped_df_mean[index]\n",
    "  pnns_data[index]['median'] = grouped_df_median[index]\n",
    "  pnns_data[index]['std'] = grouped_df_std[index]\n",
    "  pnns_data[index]['skew'] = grouped_df_skew[index]\n",
    "  pnns_df[index] = pd.DataFrame.from_dict(pnns_data[index])"
   ]
  },
  {
   "cell_type": "code",
   "execution_count": 16,
   "metadata": {},
   "outputs": [],
   "source": [
    "all_stat_data = {\n",
    "  'ingredient' : [],\n",
    "  'mean': [],\n",
    "  'median': [],\n",
    "  'std': [],\n",
    "  'skew': [],\n",
    "  'pearsonr': [],\n",
    "}\n"
   ]
  },
  {
   "cell_type": "code",
   "execution_count": 17,
   "metadata": {},
   "outputs": [],
   "source": [
    "for key, value in nutriscore_dataFrame[pnns1_columns].iteritems():\n",
    "\n",
    "    all_stat_data['ingredient'].append(key)\n",
    "    all_stat_data['mean'].append(nutriscore_dataFrame[key].mean())\n",
    "    all_stat_data['median'].append(nutriscore_dataFrame[key].median())\n",
    "    all_stat_data['std'].append(nutriscore_dataFrame[key].std())\n",
    "    all_stat_data['skew'].append(nutriscore_dataFrame[key].skew())\n",
    "\n",
    "\n",
    "    guiding_board = pd.isna(nutriscore_dataFrame[key])\n",
    "    iter_array = []\n",
    "    X_array = []\n",
    "    iter = 0\n",
    "    for bol in guiding_board:\n",
    "      iter_array.append(bol)\n",
    "\n",
    "    for values in value :\n",
    "      if(iter_array[iter]) :\n",
    "        X_array.append(0)\n",
    "      else : X_array.append(values)\n",
    "      iter += 1\n",
    "    # value = value.apply(pd.to_numeric, errors='coerce')\n",
    "    all_stat_data['pearsonr'].append(st.pearsonr(X_array, nutriscore_dataFrame['nutrition-score-fr_100g'])[0])\n",
    "\n"
   ]
  },
  {
   "cell_type": "code",
   "execution_count": 22,
   "metadata": {},
   "outputs": [
    {
     "name": "stdout",
     "output_type": "stream",
     "text": [
      "                 ingredient         mean       median         std       skew  \\\n",
      "0   nutrition-score-fr_100g     7.831913     8.000000    9.339768   0.100542   \n",
      "1               energy_100g  1133.263026  1084.000000  794.121015   0.482470   \n",
      "2        carbohydrates_100g    31.609627    21.155000   27.197263   0.665380   \n",
      "3                  fat_100g    12.873019     4.000000   17.340635   1.757120   \n",
      "4             proteins_100g     7.967449     5.500000    8.775048   2.094991   \n",
      "5               sodium_100g     2.009435     0.234696   32.909346  27.516976   \n",
      "6                 salt_100g     5.071303     0.635000   82.224597  27.482367   \n",
      "7               sugars_100g    13.207430     5.000000   18.464177   2.084263   \n",
      "8        saturated-fat_100g     4.346541     1.000000    7.114338   2.998042   \n",
      "9                fiber_100g     3.053187     1.700000    4.710772   3.970548   \n",
      "10           trans-fat_100g     0.068778     0.000000    0.859077  17.042140   \n",
      "11         cholesterol_100g     0.019015     0.000000    0.188356  71.114215   \n",
      "12                iron_100g     0.006659     0.000965    0.282644  61.812848   \n",
      "13           vitamin-c_100g     0.004797     0.000000    0.033702  43.641966   \n",
      "14             calcium_100g     0.215109     0.032000    9.031532  73.655147   \n",
      "15           vitamin-a_100g     0.000838     0.000000    0.054457  73.436947   \n",
      "\n",
      "    pearsonr  \n",
      "0   1.000000  \n",
      "1   0.607803  \n",
      "2   0.197716  \n",
      "3   0.558016  \n",
      "4   0.147627  \n",
      "5   0.050861  \n",
      "6   0.051157  \n",
      "7   0.408920  \n",
      "8   0.610093  \n",
      "9  -0.211703  \n",
      "10  0.061389  \n",
      "11  0.042118  \n",
      "12 -0.018135  \n",
      "13 -0.054032  \n",
      "14 -0.007148  \n",
      "15  0.003073  \n"
     ]
    }
   ],
   "source": [
    "df_stat = pd.DataFrame(all_stat_data)\n",
    "\n",
    "print(df_stat)"
   ]
  },
  {
   "cell_type": "code",
   "execution_count": 19,
   "metadata": {},
   "outputs": [],
   "source": [
    "for index, row in df_stat.iterrows():\n",
    "  if((row['ingredient'] != 'energy_100g') & (row['ingredient'] != 'fat_100g')):\n",
    "    general = {\n",
    "      'general_avg_scores' : row['mean':'skew']\n",
    "    }\n",
    "    pnns_df[row['ingredient']] = pd.concat([pnns_df[row['ingredient']].sort_values(by = 'mean'),pd.DataFrame.from_dict(general, orient='index')])\n"
   ]
  },
  {
   "cell_type": "code",
   "execution_count": 20,
   "metadata": {},
   "outputs": [
    {
     "name": "stdout",
     "output_type": "stream",
     "text": [
      "nutrition-score-fr_100g\n",
      "                              mean  median       std      skew\n",
      "fruits-and-vegetables    -5.142857    -7.0  5.311420  2.676560\n",
      "Fruits and vegetables    -2.695103    -3.0  4.573616  0.484475\n",
      "Cereals and potatoes      1.432700    -1.0  7.796049  1.043340\n",
      "Composite foods           3.573141     2.0  6.243077  1.183163\n",
      "Milk and dairy products   7.969163    11.0  7.916539 -0.181416\n",
      "Beverages                 8.573816     8.0  6.692736 -0.000043\n",
      "unknown                   9.925373    11.0  7.527567 -0.072382\n",
      "Salty snacks             10.295638    10.0  5.940222 -0.069500\n",
      "Fat and sauces           10.730942    11.0  7.674084  0.054270\n",
      "Fish Meat Eggs           11.100000    13.0  8.787888 -0.166360\n",
      "sugary-snacks            16.138889    18.0  5.346041 -1.346754\n",
      "Sugary snacks            18.270896    18.0  5.866125 -0.383104\n",
      "general_avg_scores        7.831913     8.0  9.339768  0.100542\n",
      "\n",
      "\n",
      "carbohydrates_100g\n",
      "                              mean  median        std      skew\n",
      "Fish Meat Eggs            7.836976   3.570   9.349900  1.428722\n",
      "fruits-and-vegetables     9.675000   4.710  13.569501  2.902595\n",
      "Milk and dairy products  12.899581   6.670  12.553257  1.609380\n",
      "Beverages                12.981073  10.000  19.016896  3.502739\n",
      "Fat and sauces           15.132684   9.520  15.099890  1.578683\n",
      "Composite foods          19.869104  16.920  14.695184  1.765403\n",
      "Fruits and vegetables    25.477030  14.290  26.796934  1.425147\n",
      "unknown                  36.389167  31.670  28.468183  0.523538\n",
      "Salty snacks             38.635372  30.000  24.035956 -0.044002\n",
      "Cereals and potatoes     47.340288  50.000  25.297597 -0.064923\n",
      "sugary-snacks            49.072778  51.150   7.449328 -2.763566\n",
      "Sugary snacks            60.002905  60.000  18.568232 -0.091791\n",
      "general_avg_scores       31.609627  21.155  27.197263  0.665380\n",
      "\n",
      "\n",
      "proteins_100g\n",
      "                              mean  median        std       skew\n",
      "Beverages                 0.652765    0.00   3.037300  13.240836\n",
      "Fat and sauces            1.520194    0.00   2.858287   4.205098\n",
      "Fruits and vegetables     1.721643    0.81   2.649370   3.968425\n",
      "fruits-and-vegetables     2.759643    1.18   5.179499   4.633667\n",
      "Sugary snacks             4.900051    5.00   3.394630   1.711956\n",
      "Composite foods           6.691751    5.88   4.680282   1.803737\n",
      "sugary-snacks             7.015278    7.12   2.841967   2.540593\n",
      "unknown                   7.960885    6.06   9.563609   3.031424\n",
      "Cereals and potatoes     10.332319    8.89   6.326729   0.929961\n",
      "Milk and dairy products  10.511366    5.15   9.858674   1.931387\n",
      "Salty snacks             11.393942    7.14   7.875537   0.655532\n",
      "Fish Meat Eggs           22.050668   17.88  11.658895   0.913498\n",
      "general_avg_scores        7.967449    5.50   8.775048   2.094991\n",
      "\n",
      "\n",
      "sodium_100g\n",
      "                             mean    median        std       skew\n",
      "Beverages                0.219702  0.008128   2.400155  13.965133\n",
      "fruits-and-vegetables    0.265548  0.024384   1.453352   8.241376\n",
      "sugary-snacks            0.268923  0.160000   0.232121   2.037634\n",
      "Fruits and vegetables    0.363757  0.009144   5.250663  19.916375\n",
      "Cereals and potatoes     0.542049  0.238760   8.627923  36.069008\n",
      "Composite foods          0.952796  0.345440  11.346257  20.395606\n",
      "Milk and dairy products  1.197568  0.076200  22.678094  29.286863\n",
      "Sugary snacks            2.121277  0.110236  22.775798  12.928565\n",
      "unknown                  2.703273  0.272288  41.267724  22.652963\n",
      "Salty snacks             3.678286  0.399288  48.171850  18.736862\n",
      "Fat and sauces           4.246075  0.544576  43.188999  14.435650\n",
      "Fish Meat Eggs           5.515093  0.838592  73.093958  16.578709\n",
      "general_avg_scores       2.009435  0.234696  32.909346  27.516976\n",
      "\n",
      "\n",
      "salt_100g\n",
      "                              mean   median         std       skew\n",
      "Beverages                 0.561945  0.03810    5.997200  13.963505\n",
      "fruits-and-vegetables     0.663917  0.06096    3.633370   8.241397\n",
      "sugary-snacks             0.690261  0.44000    0.568814   2.113125\n",
      "Fruits and vegetables     0.939181  0.03000   13.179287  19.938613\n",
      "Cereals and potatoes      1.381224  0.65786   21.568913  36.069869\n",
      "Composite foods           2.393517  0.87884   28.315754  20.396072\n",
      "Milk and dairy products   3.010870  0.19812   56.613166  29.283446\n",
      "Sugary snacks             5.341717  0.35000   56.969329  12.927903\n",
      "unknown                   6.948307  0.81534  103.151427  22.649214\n",
      "Salty snacks              9.258400  1.00000  120.514703  18.716116\n",
      "Fat and sauces           10.689664  1.41986  107.994364  14.433769\n",
      "Fish Meat Eggs           13.790700  2.10156  182.381782  16.569001\n",
      "general_avg_scores        5.071303  0.63500   82.224597  27.482367\n",
      "\n",
      "\n",
      "sugars_100g\n",
      "                              mean  median        std      skew\n",
      "Composite foods           3.456129    2.04   5.239738  3.888308\n",
      "Salty snacks              3.459305    3.33   6.041040  4.876201\n",
      "Fish Meat Eggs            4.457137    1.32   7.190351  1.964709\n",
      "fruits-and-vegetables     4.827000    2.35  10.433814  4.217199\n",
      "Cereals and potatoes      5.860323    3.57   8.344334  3.006241\n",
      "Milk and dairy products   9.353535    5.08   9.557635  1.613584\n",
      "Fat and sauces           10.791418    5.56  12.201836  1.362949\n",
      "Beverages                11.157471    8.42  17.005397  3.662188\n",
      "unknown                  14.196130    3.60  21.273997  1.901667\n",
      "sugary-snacks            17.009444   20.75   7.397805 -0.824603\n",
      "Fruits and vegetables    19.011864   10.48  22.741249  1.519061\n",
      "Sugary snacks            39.625111   36.00  20.692439  0.789960\n",
      "general_avg_scores       13.207430    5.00  18.464177  2.084263\n",
      "\n",
      "\n",
      "saturated-fat_100g\n",
      "                              mean  median        std       skew\n",
      "Fruits and vegetables     0.360965   0.000   3.528119  15.187733\n",
      "fruits-and-vegetables     0.507571   0.000   2.893899   6.479975\n",
      "Beverages                 0.970645   0.000   3.439986   4.026700\n",
      "Cereals and potatoes      1.305573   0.000   3.185584   3.125342\n",
      "Composite foods           2.308456   1.250   3.155898   3.187594\n",
      "Fish Meat Eggs            3.693411   1.790   4.279861   1.318625\n",
      "unknown                   3.954906   2.000   5.784932   3.473794\n",
      "Fat and sauces            4.370030   0.000  10.919306   4.106967\n",
      "Salty snacks              4.955735   3.570   3.853416   2.186531\n",
      "Milk and dairy products   7.901543   5.360   7.993195   0.666979\n",
      "sugary-snacks             9.263056   9.600   5.882887   2.485800\n",
      "Sugary snacks            10.068387   8.525   9.061494   1.121911\n",
      "general_avg_scores        4.346541   1.000   7.114338   2.998042\n",
      "\n",
      "\n",
      "fiber_100g\n",
      "                             mean  median       std       skew\n",
      "Milk and dairy products  0.243608   0.000  0.636982   3.603838\n",
      "Beverages                0.283027   0.000  1.594128  14.456479\n",
      "Fish Meat Eggs           0.422908   0.000  1.955352  14.025458\n",
      "Fat and sauces           1.099328   0.000  2.165681   7.596865\n",
      "sugary-snacks            2.050000   2.000  0.899359  -0.552938\n",
      "Composite foods          2.527642   2.000  1.978631   3.161403\n",
      "Sugary snacks            2.654660   2.000  3.175082   3.281691\n",
      "Fruits and vegetables    3.040840   2.100  3.518824   4.074418\n",
      "fruits-and-vegetables    3.480725   2.400  4.694899   3.548370\n",
      "unknown                  3.993896   1.735  6.068601   3.504699\n",
      "Cereals and potatoes     6.007372   4.200  6.749617   3.169581\n",
      "Salty snacks             6.165947   7.100  3.794473   1.379219\n",
      "general_avg_scores       3.053187   1.700  4.710772   3.970548\n",
      "\n",
      "\n",
      "trans-fat_100g\n",
      "                             mean  median       std       skew\n",
      "Fruits and vegetables    0.000000     0.0  0.000000   0.000000\n",
      "fruits-and-vegetables    0.000000     0.0  0.000000   0.000000\n",
      "Beverages                0.000749     0.0  0.007191  10.348693\n",
      "Fat and sauces           0.001525     0.0  0.035151  23.043437\n",
      "Cereals and potatoes     0.003137     0.0  0.082883  29.587165\n",
      "Composite foods          0.016461     0.0  0.130179  12.626492\n",
      "Fish Meat Eggs           0.052450     0.0  0.272629   5.447966\n",
      "Milk and dairy products  0.058849     0.0  0.667200  12.497959\n",
      "Sugary snacks            0.075166     0.0  0.556743   8.378947\n",
      "sugary-snacks            0.111167     0.0  0.272302   2.449490\n",
      "Salty snacks             0.234260     0.0  1.917472   9.260318\n",
      "unknown                  0.280992     0.0  1.804935   7.399857\n",
      "general_avg_scores       0.068778     0.0  0.859077  17.042140\n",
      "\n",
      "\n",
      "cholesterol_100g\n",
      "                             mean  median       std       skew\n",
      "Fruits and vegetables    0.000178   0.000  0.002628  19.522210\n",
      "Beverages                0.000269   0.000  0.000951   3.440613\n",
      "Cereals and potatoes     0.000691   0.000  0.006000  13.253440\n",
      "Salty snacks             0.000704   0.000  0.008360  17.099866\n",
      "fruits-and-vegetables    0.000809   0.000  0.004038   5.472326\n",
      "sugary-snacks            0.005761   0.000  0.010591   2.314428\n",
      "unknown                  0.010840   0.000  0.028924   8.600838\n",
      "Sugary snacks            0.012362   0.000  0.022438   2.630404\n",
      "Fat and sauces           0.016274   0.000  0.042081   3.736332\n",
      "Milk and dairy products  0.041613   0.027  0.041239   1.143979\n",
      "Composite foods          0.060035   0.004  0.797582  17.328206\n",
      "Fish Meat Eggs           0.068900   0.062  0.035874   2.326840\n",
      "general_avg_scores       0.019015   0.000  0.188356  71.114215\n",
      "\n",
      "\n",
      "iron_100g\n",
      "                             mean    median       std       skew\n",
      "Milk and dairy products  0.000096  0.000000  0.000397   9.645782\n",
      "Beverages                0.000146  0.000000  0.000335   4.054452\n",
      "Fat and sauces           0.000529  0.000000  0.000823   3.894957\n",
      "Fruits and vegetables    0.000829  0.000300  0.001634  10.831180\n",
      "Composite foods          0.001198  0.001120  0.000817   0.838657\n",
      "Fish Meat Eggs           0.001740  0.001290  0.001611   1.630864\n",
      "Sugary snacks            0.001782  0.001290  0.001858   2.317996\n",
      "sugary-snacks            0.002006  0.001690  0.001237   0.349785\n",
      "Salty snacks             0.002048  0.001290  0.001691   2.580958\n",
      "fruits-and-vegetables    0.003133  0.000420  0.013955   5.241109\n",
      "unknown                  0.018898  0.001120  0.375103  22.198404\n",
      "Cereals and potatoes     0.020375  0.002250  0.571339  33.596982\n",
      "general_avg_scores       0.006659  0.000965  0.282644  61.812848\n",
      "\n",
      "\n",
      "vitamin-c_100g\n",
      "                             mean  median       std       skew\n",
      "Milk and dairy products  0.000393  0.0000  0.001988  20.924587\n",
      "Fish Meat Eggs           0.001187  0.0000  0.005796   9.496198\n",
      "Salty snacks             0.001373  0.0000  0.007127   8.839261\n",
      "Sugary snacks            0.002345  0.0000  0.040964  23.099607\n",
      "Cereals and potatoes     0.002862  0.0000  0.008915   4.457336\n",
      "Composite foods          0.003505  0.0010  0.006366   2.840779\n",
      "unknown                  0.003882  0.0000  0.015733   8.637531\n",
      "sugary-snacks            0.005271  0.0000  0.010438   2.344154\n",
      "Fat and sauces           0.010406  0.0020  0.091198  20.824861\n",
      "Fruits and vegetables    0.014267  0.0056  0.023306   5.941049\n",
      "Beverages                0.015317  0.0005  0.034349   6.294584\n",
      "fruits-and-vegetables    0.028008  0.0252  0.042558   4.070291\n",
      "general_avg_scores       0.004797  0.0000  0.033702  43.641966\n",
      "\n",
      "\n",
      "calcium_100g\n",
      "                             mean  median        std       skew\n",
      "Fruits and vegetables    0.019147  0.0000   0.030951   4.168916\n",
      "Fish Meat Eggs           0.028783  0.0000   0.058858   3.814116\n",
      "Fat and sauces           0.028813  0.0000   0.154592  18.990723\n",
      "fruits-and-vegetables    0.030279  0.0240   0.033598   3.409726\n",
      "Beverages                0.039460  0.0080   0.077430   3.094117\n",
      "sugary-snacks            0.039614  0.0133   0.047261   0.634987\n",
      "Sugary snacks            0.050890  0.0160   0.069365   1.620584\n",
      "Composite foods          0.056398  0.0315   0.064322   1.588168\n",
      "Cereals and potatoes     0.060414  0.0310   0.352258  31.294606\n",
      "Salty snacks             0.146207  0.0710   1.340722  22.169653\n",
      "Milk and dairy products  0.291312  0.1250   0.279845   1.122808\n",
      "unknown                  1.398929  0.0080  29.796544  22.382560\n",
      "general_avg_scores       0.215109  0.0320   9.031532  73.655147\n",
      "\n",
      "\n",
      "vitamin-a_100g\n",
      "                             mean    median       std       skew\n",
      "Beverages                0.000022  0.000000  0.000053   3.829560\n",
      "Fish Meat Eggs           0.000032  0.000000  0.000141  15.870076\n",
      "Cereals and potatoes     0.000038  0.000000  0.000169   5.121653\n",
      "sugary-snacks            0.000040  0.000000  0.000080   2.154660\n",
      "Salty snacks             0.000058  0.000000  0.000201   4.426766\n",
      "unknown                  0.000068  0.000000  0.000316  14.504039\n",
      "Composite foods          0.000074  0.000025  0.000169   5.744466\n",
      "Sugary snacks            0.000076  0.000000  0.000144   3.498097\n",
      "Milk and dairy products  0.000143  0.000090  0.000179   9.072065\n",
      "Fruits and vegetables    0.000145  0.000053  0.000344   5.326821\n",
      "fruits-and-vegetables    0.000204  0.000035  0.000545   5.769550\n",
      "Fat and sauces           0.008145  0.000098  0.177474  22.533074\n",
      "general_avg_scores       0.000838  0.000000  0.054457  73.436947\n",
      "\n",
      "\n"
     ]
    }
   ],
   "source": [
    "for elements in pnns_df:\n",
    "  print(elements)\n",
    "  print(pnns_df[elements])\n",
    "  print('\\n')"
   ]
  },
  {
   "cell_type": "markdown",
   "metadata": {},
   "source": [
    "**Principal Component Analysis**"
   ]
  },
  {
   "cell_type": "code",
   "execution_count": 28,
   "metadata": {},
   "outputs": [],
   "source": [
    "from sklearn.preprocessing import StandardScaler, MinMaxScaler\n",
    "from sklearn.decomposition import PCA"
   ]
  },
  {
   "cell_type": "code",
   "execution_count": 29,
   "metadata": {},
   "outputs": [],
   "source": [
    "df = pd.read_csv('cleaned+analysis_data/ingredients_data.csv', engine = \"python\", sep= ',', decimal= '.')\n",
    "df = df.drop([df.columns[0]], axis = 'columns')\n",
    "\n",
    "features = df.columns[:]"
   ]
  },
  {
   "cell_type": "code",
   "execution_count": 31,
   "metadata": {},
   "outputs": [],
   "source": [
    "x = df.loc[:, features].values\n",
    "\n",
    "for arrays in x:\n",
    "  i = 0\n",
    "  for values in arrays:\n",
    "    arrays[i] = np.nan_to_num(values)\n",
    "    i += 1\n"
   ]
  },
  {
   "cell_type": "code",
   "execution_count": 32,
   "metadata": {},
   "outputs": [],
   "source": [
    "min_max_scaler = MinMaxScaler()\n",
    "x = StandardScaler().fit_transform(x) # normalizing the features\n",
    "\n",
    "df_normalized = pd.DataFrame(x, columns = features )"
   ]
  },
  {
   "cell_type": "code",
   "execution_count": 33,
   "metadata": {},
   "outputs": [],
   "source": [
    "pca_nutriments = PCA(n_components=2)\n",
    "principalComponents_nutriments = pca_nutriments.fit_transform(x)\n",
    "\n",
    "df_pca = pd.DataFrame(data = principalComponents_nutriments\n",
    "             , columns = ['principal component 1', 'principal component 2'])\n"
   ]
  },
  {
   "cell_type": "code",
   "execution_count": 34,
   "metadata": {},
   "outputs": [
    {
     "name": "stdout",
     "output_type": "stream",
     "text": [
      "      principal component 1  principal component 2\n",
      "0                  1.894713               0.073003\n",
      "1                 -1.318296              -0.195217\n",
      "2                  1.146237              -0.097892\n",
      "3                  1.104310               0.043571\n",
      "4                 -2.363229              -0.073086\n",
      "...                     ...                    ...\n",
      "7271               1.299963               0.020137\n",
      "7272               0.358757              -0.035255\n",
      "7273               0.359144              -0.062710\n",
      "7274               1.874062               0.081258\n",
      "7275               0.441543              -0.054879\n",
      "\n",
      "[7276 rows x 2 columns]\n",
      "Explained variation per principal component: [0.17714341 0.1333082 ]\n"
     ]
    }
   ],
   "source": [
    "print(df_pca)\n",
    "\n",
    "print('Explained variation per principal component: {}'.format(pca_nutriments.explained_variance_ratio_))"
   ]
  },
  {
   "cell_type": "code",
   "execution_count": null,
   "metadata": {},
   "outputs": [],
   "source": []
  }
 ],
 "metadata": {
  "kernelspec": {
   "display_name": "Python 3",
   "language": "python",
   "name": "python3"
  },
  "language_info": {
   "codemirror_mode": {
    "name": "ipython",
    "version": 3
   },
   "file_extension": ".py",
   "mimetype": "text/x-python",
   "name": "python",
   "nbconvert_exporter": "python",
   "pygments_lexer": "ipython3",
   "version": "3.7.5"
  },
  "toc": {
   "base_numbering": 1,
   "nav_menu": {},
   "number_sections": true,
   "sideBar": true,
   "skip_h1_title": false,
   "title_cell": "Table of Contents",
   "title_sidebar": "Contents",
   "toc_cell": false,
   "toc_position": {},
   "toc_section_display": true,
   "toc_window_display": false
  }
 },
 "nbformat": 4,
 "nbformat_minor": 2
}
