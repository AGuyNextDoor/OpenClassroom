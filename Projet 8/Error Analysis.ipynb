{
 "cells": [
  {
   "cell_type": "code",
   "execution_count": 58,
   "metadata": {},
   "outputs": [],
   "source": [
    "import pandas as pd\n",
    "import matplotlib.pyplot as plt\n",
    "import seaborn as sns\n",
    "import numpy as np\n",
    "import string\n",
    "import re\n",
    "from nltk.tokenize import word_tokenize\n",
    "import json\n"
   ]
  },
  {
   "cell_type": "code",
   "execution_count": 59,
   "metadata": {},
   "outputs": [],
   "source": [
    "def clean_tweets(tweet):\n",
    "    \"\"\"Removes links and non-ASCII characters\"\"\"\n",
    "    \n",
    "    tweet = ''.join([x for x in tweet if x in string.printable])\n",
    "    \n",
    "    # Removing URLs\n",
    "    tweet = re.sub(r\"http\\S+\", \"\", tweet)\n",
    "    \n",
    "    return tweet\n",
    "\n",
    "def remove_emoji(text):\n",
    "    emoji_pattern = re.compile(\"[\"\n",
    "                           u\"\\U0001F600-\\U0001F64F\"  # emoticons\n",
    "                           u\"\\U0001F300-\\U0001F5FF\"  # symbols & pictographs\n",
    "                           u\"\\U0001F680-\\U0001F6FF\"  # transport & map symbols\n",
    "                           u\"\\U0001F1E0-\\U0001F1FF\"  # flags (iOS)\n",
    "                           u\"\\U00002702-\\U000027B0\"\n",
    "                           u\"\\U000024C2-\\U0001F251\"\n",
    "                           \"]+\", flags=re.UNICODE)\n",
    "    return emoji_pattern.sub(r'', text)\n",
    "\n",
    "def remove_punctuations(text):\n",
    "    punctuations = '@#!?+&*[]-%.:/();$=><|{}^' + \"'`\"\n",
    "    \n",
    "    for p in punctuations:\n",
    "        text = text.replace(p, f' {p} ')\n",
    "\n",
    "    text = text.replace('...', ' ... ')\n",
    "    \n",
    "    if '...' not in text:\n",
    "        text = text.replace('..', ' ... ')\n",
    "    \n",
    "    return text\n",
    "\n",
    "def convert_abbrev(word):\n",
    "    return abbreviations[word.lower()] if word.lower() in abbreviations.keys() else word\n",
    "\n",
    "def convert_abbrev_in_text(text):\n",
    "    tokens = word_tokenize(text)\n",
    "    tokens = [convert_abbrev(word) for word in tokens]\n",
    "    text = ' '.join(tokens)\n",
    "    return text\n",
    "\n",
    "def return_low(x):\n",
    "    high = x[\"1\"] - 1\n",
    "    if(x[\"0\"] > x[\"1\"]): return (1-x[\"0\"])\n",
    "    else : return x[\"1\"]"
   ]
  },
  {
   "cell_type": "code",
   "execution_count": 60,
   "metadata": {},
   "outputs": [],
   "source": [
    "train = pd.read_csv('./train.csv')\n",
    "test = pd.read_csv('./test.csv')\n",
    "\n",
    "ids_with_target_error = [328,443,513,2619,3640,3900,4342,5781,6552,6554,6570,6701,6702,6729,6861,7226]\n",
    "train.at[train['id'].isin(ids_with_target_error),'target'] = 0\n",
    "train[train['id'].isin(ids_with_target_error)]\n",
    "\n",
    "train = train.drop(train[train[\"text\"].duplicated()].index)\n",
    "\n",
    "# Put it in a JSON file\n",
    "with open('./abbreviation.json') as json_file:\n",
    "    abbreviations = json.load(json_file)\n",
    "\n",
    "train[\"text\"] = train[\"text\"].apply(lambda x: clean_tweets(x))\n",
    "test[\"text\"] = test[\"text\"].apply(lambda x: clean_tweets(x))\n",
    "\n",
    "train[\"text\"] = train[\"text\"].apply(lambda x: remove_emoji(x))\n",
    "test[\"text\"] = test[\"text\"].apply(lambda x: remove_emoji(x))\n",
    "\n",
    "train[\"text\"] = train[\"text\"].apply(lambda x: remove_punctuations(x))\n",
    "test[\"text\"] = test[\"text\"].apply(lambda x: remove_punctuations(x))\n",
    "\n",
    "train[\"text\"] = train[\"text\"].apply(lambda x: convert_abbrev_in_text(x))\n",
    "test[\"text\"] = test[\"text\"].apply(lambda x: convert_abbrev_in_text(x))\n"
   ]
  },
  {
   "cell_type": "code",
   "execution_count": 61,
   "metadata": {},
   "outputs": [],
   "source": [
    "bert_full = pd.read_csv('./newTrainPredict.csv')[\"0\"]\n",
    "bert_full_around = bert_full.apply(lambda x: np.around(x))\n",
    "\n",
    "bert_test = pd.read_csv('./newTestPredict.csv')[\"0\"]\n",
    "bert_test_around = bert_test.apply(lambda x: np.around(x))\n",
    "\n",
    "elmo_full = pd.read_csv('./ELMo_Full_proba.csv')[[\"0\", \"1\"]]\n",
    "elmo_full = elmo_full.apply(return_low, axis = 1)\n",
    "elmo_full_around = elmo_full.apply(lambda x: np.int(np.around(x)))\n",
    "\n",
    "elmo_full = pd.read_csv('./ELMo_Full_proba.csv')[[\"0\", \"1\"]]\n",
    "elmo_full = elmo_full.apply(return_low, axis = 1)\n",
    "elmo_full_around = elmo_full.apply(lambda x: np.int(np.around(x)))\n",
    "\n",
    "elmo_test = pd.read_csv('./ELMo_test_proba.csv')[[\"0\", \"1\"]]\n",
    "elmo_test = elmo_test.apply(return_low, axis = 1)\n",
    "elmo_test_around = elmo_test.apply(lambda x: np.int(np.around(x)))\n",
    "\n",
    "y = train[\"text\"]"
   ]
  },
  {
   "cell_type": "code",
   "execution_count": 62,
   "metadata": {},
   "outputs": [
    {
     "data": {
      "text/plain": [
       "0       0.999944\n",
       "1       0.999830\n",
       "2       0.995121\n",
       "3       0.999723\n",
       "4       0.999703\n",
       "5       0.993288\n",
       "6       0.014801\n",
       "7       0.037261\n",
       "8       0.009614\n",
       "9       0.015963\n",
       "10      0.011372\n",
       "11      0.006577\n",
       "12      0.012396\n",
       "13      0.041428\n",
       "14      0.037336\n",
       "15      0.991783\n",
       "16      0.145031\n",
       "17      0.880181\n",
       "18      0.001973\n",
       "19      0.013993\n",
       "20      0.998060\n",
       "21      0.357235\n",
       "22      0.038438\n",
       "23      0.991281\n",
       "24      0.015521\n",
       "25      0.055751\n",
       "26      0.033323\n",
       "27      0.136221\n",
       "28      0.208042\n",
       "29      0.938276\n",
       "          ...   \n",
       "3233    0.995877\n",
       "3234    0.993660\n",
       "3235    0.978977\n",
       "3236    0.995877\n",
       "3237    0.989381\n",
       "3238    0.970494\n",
       "3239    0.995877\n",
       "3240    0.997326\n",
       "3241    0.008616\n",
       "3242    0.022669\n",
       "3243    0.067722\n",
       "3244    0.057267\n",
       "3245    0.013357\n",
       "3246    0.055709\n",
       "3247    0.033897\n",
       "3248    0.009189\n",
       "3249    0.055719\n",
       "3250    0.091344\n",
       "3251    0.009064\n",
       "3252    0.999455\n",
       "3253    0.999922\n",
       "3254    0.996115\n",
       "3255    0.998913\n",
       "3256    0.993609\n",
       "3257    0.999972\n",
       "3258    0.653631\n",
       "3259    0.999819\n",
       "3260    0.999407\n",
       "3261    0.975229\n",
       "3262    0.998647\n",
       "Name: 0, Length: 3263, dtype: float64"
      ]
     },
     "execution_count": 62,
     "metadata": {},
     "output_type": "execute_result"
    }
   ],
   "source": [
    "bert_test"
   ]
  },
  {
   "cell_type": "markdown",
   "metadata": {},
   "source": [
    "# Comparison"
   ]
  },
  {
   "cell_type": "code",
   "execution_count": 63,
   "metadata": {},
   "outputs": [
    {
     "data": {
      "text/plain": [
       "(7503,)"
      ]
     },
     "execution_count": 63,
     "metadata": {},
     "output_type": "execute_result"
    }
   ],
   "source": [
    "train.index.shape"
   ]
  },
  {
   "cell_type": "code",
   "execution_count": 64,
   "metadata": {},
   "outputs": [
    {
     "name": "stdout",
     "output_type": "stream",
     "text": [
      "accuracy is  0.9566839930694389\n",
      "(124, 5) (201, 5)\n"
     ]
    }
   ],
   "source": [
    "Predict = bert_full_around\n",
    "Predict.index = train.index\n",
    "bert_evaluationOnes = (Predict.loc[Predict == 1] == train.loc[Predict == 1][\"target\"])\n",
    "bert_evaluationZeros = (Predict.loc[Predict == 0] == train.loc[Predict == 0][\"target\"])\n",
    "\n",
    "tot_false = (bert_evaluationOnes[bert_evaluationOnes == False]).shape[0] + (bert_evaluationZeros[bert_evaluationZeros == False]).shape[0]\n",
    "\n",
    "print(\"accuracy is \", 1-tot_false/train.index.shape[0])\n",
    "\n",
    "FP_bert = train.loc[bert_evaluationOnes[bert_evaluationOnes == False].index]\n",
    "FN_bert = train.loc[bert_evaluationZeros[bert_evaluationZeros == False].index]\n",
    "print(np.shape(FP_bert), np.shape(FN_bert))"
   ]
  },
  {
   "cell_type": "code",
   "execution_count": 65,
   "metadata": {},
   "outputs": [
    {
     "name": "stdout",
     "output_type": "stream",
     "text": [
      "accuracy is  0.8513927762228441\n",
      "(418, 5) (697, 5)\n"
     ]
    }
   ],
   "source": [
    "Predict = elmo_full_around\n",
    "Predict.index = train.index\n",
    "elmo_evaluationOnes = (Predict.loc[Predict == 1] == train.loc[Predict == 1][\"target\"])\n",
    "elmo_evaluationZeros = (Predict.loc[Predict == 0] == train.loc[Predict == 0][\"target\"])\n",
    "\n",
    "tot_false = (elmo_evaluationOnes[elmo_evaluationOnes == False]).shape[0] + (elmo_evaluationZeros[elmo_evaluationZeros == False]).shape[0]\n",
    "print(\"accuracy is \", 1-tot_false/train.index.shape[0])\n",
    "\n",
    "FP_elmo = train.loc[elmo_evaluationOnes[elmo_evaluationOnes == False].index]\n",
    "FN_elmo = train.loc[elmo_evaluationZeros[elmo_evaluationZeros == False].index]\n",
    "print(np.shape(FP_elmo), np.shape(FN_elmo))"
   ]
  },
  {
   "cell_type": "code",
   "execution_count": 66,
   "metadata": {},
   "outputs": [
    {
     "name": "stdout",
     "output_type": "stream",
     "text": [
      "accuracy is  0.9456217512994802\n",
      "(141, 5) (267, 5)\n"
     ]
    }
   ],
   "source": [
    "combined_pd = pd.DataFrame({'bert': bert_full, 'elmo':elmo_full})\n",
    "combined_pd = combined_pd.apply(lambda x: np.average(x), axis = 1)\n",
    "combined_around_pd = combined_pd.apply(lambda x: np.int(np.around(x)))\n",
    "\n",
    "Predict = combined_around_pd\n",
    "Predict.index = train.index\n",
    "combined_evaluationOnes = (Predict.loc[Predict == 1] == train.loc[Predict == 1][\"target\"])\n",
    "combined_evaluationZeros = (Predict.loc[Predict == 0] == train.loc[Predict == 0][\"target\"])\n",
    "\n",
    "tot_false = (combined_evaluationOnes[combined_evaluationOnes == False]).shape[0] + (combined_evaluationZeros[combined_evaluationZeros == False]).shape[0]\n",
    "\n",
    "FP_comb = train.loc[combined_evaluationOnes[combined_evaluationOnes == False].index]\n",
    "FN_comb = train.loc[combined_evaluationZeros[combined_evaluationZeros == False].index]\n",
    "print(\"accuracy is \", 1-tot_false/train.index.shape[0])\n",
    "print(np.shape(FP_comb), np.shape(FN_comb))\n",
    "\n"
   ]
  },
  {
   "cell_type": "code",
   "execution_count": 67,
   "metadata": {},
   "outputs": [],
   "source": [
    "combined_test_pd = pd.DataFrame({'bert': bert_test, 'elmo':elmo_test})\n",
    "combined_test_pd = combined_test_pd.apply(lambda x: np.average(x), axis = 1)\n",
    "combined_test_around_pd = combined_test_pd.apply(lambda x: np.int(np.around(x)))\n",
    "\n",
    "pd.DataFrame(combined_test_around_pd).to_csv('submission.csv', index = False, header=True)\n"
   ]
  },
  {
   "cell_type": "code",
   "execution_count": 68,
   "metadata": {},
   "outputs": [
    {
     "data": {
      "text/html": [
       "<div>\n",
       "<style scoped>\n",
       "    .dataframe tbody tr th:only-of-type {\n",
       "        vertical-align: middle;\n",
       "    }\n",
       "\n",
       "    .dataframe tbody tr th {\n",
       "        vertical-align: top;\n",
       "    }\n",
       "\n",
       "    .dataframe thead th {\n",
       "        text-align: right;\n",
       "    }\n",
       "</style>\n",
       "<table border=\"1\" class=\"dataframe\">\n",
       "  <thead>\n",
       "    <tr style=\"text-align: right;\">\n",
       "      <th></th>\n",
       "      <th>0</th>\n",
       "    </tr>\n",
       "  </thead>\n",
       "  <tbody>\n",
       "    <tr>\n",
       "      <th>0</th>\n",
       "      <td>1</td>\n",
       "    </tr>\n",
       "    <tr>\n",
       "      <th>1</th>\n",
       "      <td>1</td>\n",
       "    </tr>\n",
       "    <tr>\n",
       "      <th>2</th>\n",
       "      <td>1</td>\n",
       "    </tr>\n",
       "    <tr>\n",
       "      <th>3</th>\n",
       "      <td>1</td>\n",
       "    </tr>\n",
       "    <tr>\n",
       "      <th>4</th>\n",
       "      <td>1</td>\n",
       "    </tr>\n",
       "    <tr>\n",
       "      <th>5</th>\n",
       "      <td>1</td>\n",
       "    </tr>\n",
       "    <tr>\n",
       "      <th>6</th>\n",
       "      <td>0</td>\n",
       "    </tr>\n",
       "    <tr>\n",
       "      <th>7</th>\n",
       "      <td>0</td>\n",
       "    </tr>\n",
       "    <tr>\n",
       "      <th>8</th>\n",
       "      <td>0</td>\n",
       "    </tr>\n",
       "    <tr>\n",
       "      <th>9</th>\n",
       "      <td>0</td>\n",
       "    </tr>\n",
       "    <tr>\n",
       "      <th>10</th>\n",
       "      <td>0</td>\n",
       "    </tr>\n",
       "    <tr>\n",
       "      <th>11</th>\n",
       "      <td>0</td>\n",
       "    </tr>\n",
       "    <tr>\n",
       "      <th>12</th>\n",
       "      <td>0</td>\n",
       "    </tr>\n",
       "    <tr>\n",
       "      <th>13</th>\n",
       "      <td>0</td>\n",
       "    </tr>\n",
       "    <tr>\n",
       "      <th>14</th>\n",
       "      <td>0</td>\n",
       "    </tr>\n",
       "    <tr>\n",
       "      <th>15</th>\n",
       "      <td>1</td>\n",
       "    </tr>\n",
       "    <tr>\n",
       "      <th>16</th>\n",
       "      <td>0</td>\n",
       "    </tr>\n",
       "    <tr>\n",
       "      <th>17</th>\n",
       "      <td>1</td>\n",
       "    </tr>\n",
       "    <tr>\n",
       "      <th>18</th>\n",
       "      <td>0</td>\n",
       "    </tr>\n",
       "    <tr>\n",
       "      <th>19</th>\n",
       "      <td>0</td>\n",
       "    </tr>\n",
       "    <tr>\n",
       "      <th>20</th>\n",
       "      <td>1</td>\n",
       "    </tr>\n",
       "    <tr>\n",
       "      <th>21</th>\n",
       "      <td>1</td>\n",
       "    </tr>\n",
       "    <tr>\n",
       "      <th>22</th>\n",
       "      <td>0</td>\n",
       "    </tr>\n",
       "    <tr>\n",
       "      <th>23</th>\n",
       "      <td>1</td>\n",
       "    </tr>\n",
       "    <tr>\n",
       "      <th>24</th>\n",
       "      <td>0</td>\n",
       "    </tr>\n",
       "    <tr>\n",
       "      <th>25</th>\n",
       "      <td>1</td>\n",
       "    </tr>\n",
       "    <tr>\n",
       "      <th>26</th>\n",
       "      <td>0</td>\n",
       "    </tr>\n",
       "    <tr>\n",
       "      <th>27</th>\n",
       "      <td>0</td>\n",
       "    </tr>\n",
       "    <tr>\n",
       "      <th>28</th>\n",
       "      <td>0</td>\n",
       "    </tr>\n",
       "    <tr>\n",
       "      <th>29</th>\n",
       "      <td>1</td>\n",
       "    </tr>\n",
       "    <tr>\n",
       "      <th>...</th>\n",
       "      <td>...</td>\n",
       "    </tr>\n",
       "    <tr>\n",
       "      <th>3233</th>\n",
       "      <td>1</td>\n",
       "    </tr>\n",
       "    <tr>\n",
       "      <th>3234</th>\n",
       "      <td>1</td>\n",
       "    </tr>\n",
       "    <tr>\n",
       "      <th>3235</th>\n",
       "      <td>1</td>\n",
       "    </tr>\n",
       "    <tr>\n",
       "      <th>3236</th>\n",
       "      <td>1</td>\n",
       "    </tr>\n",
       "    <tr>\n",
       "      <th>3237</th>\n",
       "      <td>1</td>\n",
       "    </tr>\n",
       "    <tr>\n",
       "      <th>3238</th>\n",
       "      <td>1</td>\n",
       "    </tr>\n",
       "    <tr>\n",
       "      <th>3239</th>\n",
       "      <td>1</td>\n",
       "    </tr>\n",
       "    <tr>\n",
       "      <th>3240</th>\n",
       "      <td>1</td>\n",
       "    </tr>\n",
       "    <tr>\n",
       "      <th>3241</th>\n",
       "      <td>0</td>\n",
       "    </tr>\n",
       "    <tr>\n",
       "      <th>3242</th>\n",
       "      <td>0</td>\n",
       "    </tr>\n",
       "    <tr>\n",
       "      <th>3243</th>\n",
       "      <td>0</td>\n",
       "    </tr>\n",
       "    <tr>\n",
       "      <th>3244</th>\n",
       "      <td>0</td>\n",
       "    </tr>\n",
       "    <tr>\n",
       "      <th>3245</th>\n",
       "      <td>0</td>\n",
       "    </tr>\n",
       "    <tr>\n",
       "      <th>3246</th>\n",
       "      <td>0</td>\n",
       "    </tr>\n",
       "    <tr>\n",
       "      <th>3247</th>\n",
       "      <td>0</td>\n",
       "    </tr>\n",
       "    <tr>\n",
       "      <th>3248</th>\n",
       "      <td>0</td>\n",
       "    </tr>\n",
       "    <tr>\n",
       "      <th>3249</th>\n",
       "      <td>0</td>\n",
       "    </tr>\n",
       "    <tr>\n",
       "      <th>3250</th>\n",
       "      <td>0</td>\n",
       "    </tr>\n",
       "    <tr>\n",
       "      <th>3251</th>\n",
       "      <td>0</td>\n",
       "    </tr>\n",
       "    <tr>\n",
       "      <th>3252</th>\n",
       "      <td>1</td>\n",
       "    </tr>\n",
       "    <tr>\n",
       "      <th>3253</th>\n",
       "      <td>1</td>\n",
       "    </tr>\n",
       "    <tr>\n",
       "      <th>3254</th>\n",
       "      <td>1</td>\n",
       "    </tr>\n",
       "    <tr>\n",
       "      <th>3255</th>\n",
       "      <td>1</td>\n",
       "    </tr>\n",
       "    <tr>\n",
       "      <th>3256</th>\n",
       "      <td>1</td>\n",
       "    </tr>\n",
       "    <tr>\n",
       "      <th>3257</th>\n",
       "      <td>1</td>\n",
       "    </tr>\n",
       "    <tr>\n",
       "      <th>3258</th>\n",
       "      <td>1</td>\n",
       "    </tr>\n",
       "    <tr>\n",
       "      <th>3259</th>\n",
       "      <td>1</td>\n",
       "    </tr>\n",
       "    <tr>\n",
       "      <th>3260</th>\n",
       "      <td>1</td>\n",
       "    </tr>\n",
       "    <tr>\n",
       "      <th>3261</th>\n",
       "      <td>1</td>\n",
       "    </tr>\n",
       "    <tr>\n",
       "      <th>3262</th>\n",
       "      <td>1</td>\n",
       "    </tr>\n",
       "  </tbody>\n",
       "</table>\n",
       "<p>3263 rows × 1 columns</p>\n",
       "</div>"
      ],
      "text/plain": [
       "      0\n",
       "0     1\n",
       "1     1\n",
       "2     1\n",
       "3     1\n",
       "4     1\n",
       "5     1\n",
       "6     0\n",
       "7     0\n",
       "8     0\n",
       "9     0\n",
       "10    0\n",
       "11    0\n",
       "12    0\n",
       "13    0\n",
       "14    0\n",
       "15    1\n",
       "16    0\n",
       "17    1\n",
       "18    0\n",
       "19    0\n",
       "20    1\n",
       "21    1\n",
       "22    0\n",
       "23    1\n",
       "24    0\n",
       "25    1\n",
       "26    0\n",
       "27    0\n",
       "28    0\n",
       "29    1\n",
       "...  ..\n",
       "3233  1\n",
       "3234  1\n",
       "3235  1\n",
       "3236  1\n",
       "3237  1\n",
       "3238  1\n",
       "3239  1\n",
       "3240  1\n",
       "3241  0\n",
       "3242  0\n",
       "3243  0\n",
       "3244  0\n",
       "3245  0\n",
       "3246  0\n",
       "3247  0\n",
       "3248  0\n",
       "3249  0\n",
       "3250  0\n",
       "3251  0\n",
       "3252  1\n",
       "3253  1\n",
       "3254  1\n",
       "3255  1\n",
       "3256  1\n",
       "3257  1\n",
       "3258  1\n",
       "3259  1\n",
       "3260  1\n",
       "3261  1\n",
       "3262  1\n",
       "\n",
       "[3263 rows x 1 columns]"
      ]
     },
     "execution_count": 68,
     "metadata": {},
     "output_type": "execute_result"
    }
   ],
   "source": [
    "pd.DataFrame(combined_test_around_pd)"
   ]
  },
  {
   "cell_type": "code",
   "execution_count": 69,
   "metadata": {},
   "outputs": [
    {
     "name": "stdout",
     "output_type": "stream",
     "text": [
      "    id  target\n",
      "0    0       0\n",
      "1    2       0\n",
      "2    3       0\n",
      "3    9       0\n",
      "4   11       0\n",
      "5   12       0\n",
      "6   21       0\n",
      "7   22       0\n",
      "8   27       0\n",
      "9   29       0\n",
      "10  30       0\n",
      "11  35       0\n",
      "12  42       0\n",
      "13  43       0\n",
      "14  45       0\n",
      "15  46       0\n",
      "16  47       0\n",
      "17  51       0\n",
      "18  58       0\n",
      "19  60       0\n"
     ]
    }
   ],
   "source": [
    "sample = pd.read_csv('./sample_submission.csv')\n",
    "print(sample.head(20))\n",
    "sample[\"target\"] = pd.DataFrame(combined_around_pd)\n",
    "sample.to_csv(\"submission.csv\", index=False, header=True)"
   ]
  },
  {
   "cell_type": "code",
   "execution_count": 70,
   "metadata": {},
   "outputs": [
    {
     "name": "stdout",
     "output_type": "stream",
     "text": [
      "    id  target\n",
      "0    0     1.0\n",
      "1    2     1.0\n",
      "2    3     1.0\n",
      "3    9     1.0\n",
      "4   11     1.0\n",
      "5   12     1.0\n",
      "6   21     1.0\n",
      "7   22     1.0\n",
      "8   27     1.0\n",
      "9   29     1.0\n",
      "10  30     1.0\n",
      "11  35     1.0\n",
      "12  42     1.0\n",
      "13  43     1.0\n",
      "14  45     1.0\n",
      "15  46     0.0\n",
      "16  47     0.0\n",
      "17  51     0.0\n",
      "18  58     0.0\n",
      "19  60     0.0\n"
     ]
    }
   ],
   "source": [
    "print(sample.head(20))\n"
   ]
  },
  {
   "cell_type": "markdown",
   "metadata": {},
   "source": [
    "# Analysis"
   ]
  },
  {
   "cell_type": "code",
   "execution_count": 71,
   "metadata": {},
   "outputs": [
    {
     "data": {
      "text/plain": [
       "<matplotlib.axes._subplots.AxesSubplot at 0x134721a50>"
      ]
     },
     "execution_count": 71,
     "metadata": {},
     "output_type": "execute_result"
    },
    {
     "data": {
      "image/png": "[encoded data removed]",
      "text/plain": [
       "<Figure size 2160x720 with 3 Axes>"
      ]
     },
     "metadata": {
      "needs_background": "light"
     },
     "output_type": "display_data"
    }
   ],
   "source": [
    "fig = plt.figure(figsize = (30,10))\n",
    "\n",
    "ax = fig.add_subplot(131)\n",
    "ax.axis([0, 10, 0, 18])\n",
    "plt.xticks(size = 20)\n",
    "plt.yticks(size = 15)\n",
    "plt.title('FP_elmo')\n",
    "FP_elmo[\"keyword\"].value_counts().head(10).plot.bar(ax = ax)\n",
    "\n",
    "ax = fig.add_subplot(132)\n",
    "ax.axis([0, 10, 0, 18])\n",
    "plt.xticks(size = 20)\n",
    "plt.yticks(size = 15)\n",
    "plt.title('FP_bert')\n",
    "FP_bert[\"keyword\"].value_counts().head(10).plot.bar(ax = ax)\n",
    "\n",
    "ax = fig.add_subplot(133)\n",
    "ax.axis([0, 10, 0, 18])\n",
    "plt.xticks(size = 20)\n",
    "plt.yticks(size = 15)\n",
    "plt.title('FP_comb')\n",
    "FP_comb[\"keyword\"].value_counts().head(10).plot.bar(ax = ax)\n"
   ]
  },
  {
   "cell_type": "code",
   "execution_count": 72,
   "metadata": {},
   "outputs": [
    {
     "data": {
      "text/plain": [
       "<matplotlib.axes._subplots.AxesSubplot at 0x136bf6050>"
      ]
     },
     "execution_count": 72,
     "metadata": {},
     "output_type": "execute_result"
    },
    {
     "data": {
      "image/png": "[encoded data removed]",
      "text/plain": [
       "<Figure size 2160x720 with 3 Axes>"
      ]
     },
     "metadata": {
      "needs_background": "light"
     },
     "output_type": "display_data"
    }
   ],
   "source": [
    "fig = plt.figure(figsize = (30,10))\n",
    "\n",
    "ax = fig.add_subplot(131)\n",
    "ax.axis([0, 10, 0, 12])\n",
    "plt.title('FN_elmo')\n",
    "plt.xticks(size = 20)\n",
    "plt.yticks(size = 15)\n",
    "FN_elmo[\"keyword\"].value_counts().head(10).plot.bar(ax = ax)\n",
    "\n",
    "ax = fig.add_subplot(132)\n",
    "ax.axis([0, 10, 0, 12])\n",
    "plt.xticks(size = 20)\n",
    "plt.yticks(size = 15)\n",
    "plt.title('FN_bert')\n",
    "FN_bert[\"keyword\"].value_counts().head(10).plot.bar(ax = ax)\n",
    "\n",
    "ax = fig.add_subplot(133)\n",
    "ax.axis([0, 10, 0, 12])\n",
    "plt.xticks(size = 20)\n",
    "plt.yticks(size = 15)\n",
    "plt.title('FN_comb')\n",
    "FN_comb[\"keyword\"].value_counts().head(10).plot.bar(ax = ax)"
   ]
  },
  {
   "cell_type": "markdown",
   "metadata": {},
   "source": [
    "# Confidence"
   ]
  },
  {
   "cell_type": "code",
   "execution_count": 73,
   "metadata": {},
   "outputs": [],
   "source": [
    "def confidenceCalc(x):\n",
    "    if x<0.5 : \n",
    "        return (0.5-x)*2\n",
    "    else : \n",
    "        return (x-0.5)*2"
   ]
  },
  {
   "cell_type": "code",
   "execution_count": 74,
   "metadata": {},
   "outputs": [
    {
     "name": "stdout",
     "output_type": "stream",
     "text": [
      "True confidence : 0.7855326118506482 False confidence : 0.5075404604472361\n",
      "Value diff : 0.27799215140341205\n"
     ]
    }
   ],
   "source": [
    "Predict = elmo_full_around\n",
    "Predict.index = train.index\n",
    "elmo_full.index = train.index\n",
    "TrueValues = elmo_full[train[\"target\"] == Predict]\n",
    "FalseValues = elmo_full[train[\"target\"] != Predict]\n",
    "meanTrueConf = TrueValues.apply(confidenceCalc).mean()\n",
    "meanFalseConf = FalseValues.apply(confidenceCalc).mean()\n",
    "\n",
    "print(\"True confidence :\", meanTrueConf, \"False confidence :\", meanFalseConf)\n",
    "print(\"Value diff :\", meanTrueConf - meanFalseConf)"
   ]
  },
  {
   "cell_type": "code",
   "execution_count": 75,
   "metadata": {},
   "outputs": [
    {
     "name": "stdout",
     "output_type": "stream",
     "text": [
      "True confidence : 0.906751022706444 False confidence : 0.5669941794264618\n",
      "Value diff : 0.33975684327998223\n"
     ]
    }
   ],
   "source": [
    "Predict = bert_full_around\n",
    "Predict.index = train.index\n",
    "bert_full.index = train.index\n",
    "TrueValues = bert_full[train[\"target\"] == Predict]\n",
    "FalseValues = bert_full[train[\"target\"] != Predict]\n",
    "meanTrueConf = TrueValues.apply(confidenceCalc).mean()\n",
    "meanFalseConf = FalseValues.apply(confidenceCalc).mean()\n",
    "\n",
    "print(\"True confidence :\", meanTrueConf, \"False confidence :\", meanFalseConf)\n",
    "print(\"Value diff :\", meanTrueConf - meanFalseConf)"
   ]
  },
  {
   "cell_type": "code",
   "execution_count": 76,
   "metadata": {},
   "outputs": [
    {
     "name": "stdout",
     "output_type": "stream",
     "text": [
      "True confidence : 0.7799500064231981 False confidence : 0.3566545923635499\n",
      "Value diff : 0.4232954140596482\n"
     ]
    }
   ],
   "source": [
    "Predict = combined_around_pd\n",
    "Predict.index = train.index\n",
    "combined_pd.index = train.index\n",
    "TrueValues = combined_pd[train[\"target\"] == Predict]\n",
    "FalseValues = combined_pd[train[\"target\"] != Predict]\n",
    "meanTrueConf = TrueValues.apply(confidenceCalc).mean()\n",
    "meanFalseConf = FalseValues.apply(confidenceCalc).mean()\n",
    "\n",
    "print(\"True confidence :\", meanTrueConf, \"False confidence :\", meanFalseConf)\n",
    "print(\"Value diff :\", meanTrueConf - meanFalseConf)"
   ]
  },
  {
   "cell_type": "code",
   "execution_count": 56,
   "metadata": {},
   "outputs": [
    {
     "ename": "ValueError",
     "evalue": "Can only compare identically-labeled Series objects",
     "output_type": "error",
     "traceback": [
      "\u001b[0;31m---------------------------------------------------------------------------\u001b[0m",
      "\u001b[0;31mValueError\u001b[0m                                Traceback (most recent call last)",
      "\u001b[0;32m<ipython-input-56-390fb0e618fd>\u001b[0m in \u001b[0;36m<module>\u001b[0;34m\u001b[0m\n\u001b[0;32m----> 1\u001b[0;31m \u001b[0mtrain\u001b[0m\u001b[0;34m[\u001b[0m\u001b[0;34m\"target\"\u001b[0m\u001b[0;34m]\u001b[0m \u001b[0;34m==\u001b[0m \u001b[0mPredict\u001b[0m\u001b[0;34m\u001b[0m\u001b[0;34m\u001b[0m\u001b[0m\n\u001b[0m",
      "\u001b[0;32m/usr/local/lib/python3.7/site-packages/pandas/core/ops.py\u001b[0m in \u001b[0;36mwrapper\u001b[0;34m(self, other, axis)\u001b[0m\n\u001b[1;32m   1674\u001b[0m \u001b[0;34m\u001b[0m\u001b[0m\n\u001b[1;32m   1675\u001b[0m         \u001b[0;32melif\u001b[0m \u001b[0misinstance\u001b[0m\u001b[0;34m(\u001b[0m\u001b[0mother\u001b[0m\u001b[0;34m,\u001b[0m \u001b[0mABCSeries\u001b[0m\u001b[0;34m)\u001b[0m \u001b[0;32mand\u001b[0m \u001b[0;32mnot\u001b[0m \u001b[0mself\u001b[0m\u001b[0;34m.\u001b[0m\u001b[0m_indexed_same\u001b[0m\u001b[0;34m(\u001b[0m\u001b[0mother\u001b[0m\u001b[0;34m)\u001b[0m\u001b[0;34m:\u001b[0m\u001b[0;34m\u001b[0m\u001b[0;34m\u001b[0m\u001b[0m\n\u001b[0;32m-> 1676\u001b[0;31m             raise ValueError(\"Can only compare identically-labeled \"\n\u001b[0m\u001b[1;32m   1677\u001b[0m                              \"Series objects\")\n\u001b[1;32m   1678\u001b[0m \u001b[0;34m\u001b[0m\u001b[0m\n",
      "\u001b[0;31mValueError\u001b[0m: Can only compare identically-labeled Series objects"
     ]
    }
   ],
   "source": [
    "train[\"target\"] == Predict"
   ]
  },
  {
   "cell_type": "code",
   "execution_count": null,
   "metadata": {},
   "outputs": [],
   "source": []
  }
 ],
 "metadata": {
  "kernelspec": {
   "display_name": "Python 3",
   "language": "python",
   "name": "python3"
  },
  "language_info": {
   "codemirror_mode": {
    "name": "ipython",
    "version": 3
   },
   "file_extension": ".py",
   "mimetype": "text/x-python",
   "name": "python",
   "nbconvert_exporter": "python",
   "pygments_lexer": "ipython3",
   "version": "3.7.5"
  },
  "toc": {
   "base_numbering": 1,
   "nav_menu": {},
   "number_sections": true,
   "sideBar": true,
   "skip_h1_title": false,
   "title_cell": "Table of Contents",
   "title_sidebar": "Contents",
   "toc_cell": false,
   "toc_position": {},
   "toc_section_display": true,
   "toc_window_display": true
  }
 },
 "nbformat": 4,
 "nbformat_minor": 2
}
